{
 "cells": [
  {
   "cell_type": "markdown",
   "id": "fc20b551",
   "metadata": {},
   "source": [
    "# Introduction to Continuum Mechanics"
   ]
  },
  {
   "cell_type": "markdown",
   "id": "939cd4ac",
   "metadata": {},
   "source": [
    "## What is a continuum in Continuum Mechanics?\n",
    "- Materials are made of molecules/atoms.\n",
    "- On a molecular/atomic scale, the material is discrete.\n",
    "- In Continuum Mechanics, we deal with problems that are larger in the magnitude of the atomic scale, *e.g*, deflection of a beam, stress at a pressurized tube, and contact of a train wheel on rail. In all of these problems, we may assume the material as a continuum. \n",
    "- We discretize an ideal material (in the essence of what we call continuous in Continuum Mechanics) into particles (not in order of molecular/atomic scale) which *always* sit next to each other so that they create a continuous body.\n",
    "\n",
    "**N.B.** In Continuum Mechanics, one should notice the size of the particles, especially in case of interactions. For instance, in room temperature, the size of air molecules is about 5e-8m. When comparing these molecules to an airplane wing, we can assume these molecules an a continuum.\n",
    "***"
   ]
  },
  {
   "cell_type": "markdown",
   "id": "fe787044",
   "metadata": {},
   "source": [
    "## What is Continuum Mechanics?\n",
    "Continuum Mechanics is a *tool* that provides the formulation and solution to the boundary-value problems which are commonly used in idealistic materials. Indeed, Continuum Mechanics investigates the relationship among various phenomena irrespective of material structure.\n",
    "\n",
    "Here, *tool* is an important word that simply refers to the required knowledge and approaches we may come across in Continuum Mechanics. We do not follow modeling in Continuum Mechanics."
   ]
  },
  {
   "cell_type": "markdown",
   "id": "a5ee18e9",
   "metadata": {},
   "source": [
    "## History of Continuum Mechanics\n",
    "- Newton\n",
    "- Euler (contributed to Eulerian point of view in Continuum Mechanics)\n",
    "- Lagrange (contributed to Lagrangian point of view in Continuum Mechanics)\n",
    "- Cauchy (contributed to Cauchy stress/strain concepts)\n",
    "- Piola-Kirchhoff (contributed to novel stress concepts)\n",
    "- ..."
   ]
  },
  {
   "cell_type": "markdown",
   "id": "fbaecf02",
   "metadata": {},
   "source": [
    "## Why do we need Continuum Mechanics?\n",
    "- Continuum Mechanics is the very first step in gaining knowledge in advanced mechanics.\n",
    "- It is vastly used in analytical and numerical solutions in advanced topics, *e.g*, elasticity, plasticity, finite element method, fracture mechanics, etc.\n",
    "- You need to select the proper tool based on your analysis.\n",
    "***"
   ]
  },
  {
   "cell_type": "markdown",
   "id": "46f96368",
   "metadata": {},
   "source": [
    "## What is the course content?\n",
    "- Preliminary math on Tensor Analysis\n",
    "- Kinematics of a continuum  (strain)\n",
    "- Stress\n",
    "- Field equations\n",
    "    - The principle of conservation of mass\n",
    "    - The principle of linear momentum\n",
    "    - The principle of momentum of momentum\n",
    "    - The principle of conservation of energy (the 1st thermodynamic law)\n",
    "    - Entropy inequality (the 2nd thermodynamic law)"
   ]
  },
  {
   "cell_type": "markdown",
   "id": "4920445f",
   "metadata": {},
   "source": [
    "## Who are the learners?\n",
    "- Suitable for solid mechanics; however, others can also benefit.\n",
    "- Engineers who would like to understand the origin of strain/stress.\n",
    "- Engineers who would like to go beyond graduate courses, *i.e*, Mechanics of Materials"
   ]
  },
  {
   "cell_type": "markdown",
   "id": "706e4364",
   "metadata": {},
   "source": [
    "## Textbook\n",
    "*[Introduction to Continuum Mechanics](https://www.elsevier.com/books/introduction-to-continuum-mechanics/lai/978-0-7506-8560-3)*, W. Michael Lai, David Rubin and Erhard Krempl, 4th Edition, 2010, Butterworth-Heinemann.\n",
    "\n",
    "*[Continuum Mechanics Modeling of Material Behavior](https://www.elsevier.com/books/continuum-mechanics-modeling-of-material-behavior/sadd/978-0-12-811474-2)*, Martin H. Sadd, 2019, Academic Press."
   ]
  }
 ],
 "metadata": {
  "kernelspec": {
   "display_name": "Python 3",
   "language": "python",
   "name": "python3"
  },
  "language_info": {
   "codemirror_mode": {
    "name": "ipython",
    "version": 3
   },
   "file_extension": ".py",
   "mimetype": "text/x-python",
   "name": "python",
   "nbconvert_exporter": "python",
   "pygments_lexer": "ipython3",
   "version": "3.8.8"
  }
 },
 "nbformat": 4,
 "nbformat_minor": 5
}
