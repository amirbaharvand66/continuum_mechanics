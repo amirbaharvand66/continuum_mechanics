{
 "cells": [
  {
   "cell_type": "markdown",
   "id": "8c7fcc21",
   "metadata": {},
   "source": [
    "The general state of stress in three-dimension can be represented by 9 components (which are the permutations of 1, 2 and 3) where of directions 1, 2 and 3 are mutually perpendicular."
   ]
  },
  {
   "cell_type": "code",
   "execution_count": 30,
   "id": "de9339e5",
   "metadata": {},
   "outputs": [
    {
     "name": "stdout",
     "output_type": "stream",
     "text": [
      "[(1, 1), (1, 2), (1, 3), (2, 1), (2, 2), (2, 3), (3, 1), (3, 2), (3, 3)]\n"
     ]
    }
   ],
   "source": [
    "import itertools as it\n",
    "idx = [1, 2, 3]\n",
    "s_cmp = it.product(idx, repeat = 2)\n",
    "s_cmp = list(s_cmp)\n",
    "print(s_cmp)"
   ]
  },
  {
   "cell_type": "markdown",
   "id": "49b17adb",
   "metadata": {},
   "source": [
    "## Index list"
   ]
  },
  {
   "cell_type": "code",
   "execution_count": 31,
   "id": "75b86474",
   "metadata": {},
   "outputs": [
    {
     "name": "stdout",
     "output_type": "stream",
     "text": [
      "index list = [11, 12, 13, 21, 22, 23, 31, 32, 33] \n",
      "\n"
     ]
    }
   ],
   "source": [
    "index = []\n",
    "for n in range(len(s_cmp)):\n",
    "    index.append(int(f'{s_cmp[n][0]}{s_cmp[n][1]}'))\n",
    "print(\"index list = {}\".format(index), end = \" \")\n",
    "print(\"\\n\")"
   ]
  },
  {
   "cell_type": "markdown",
   "id": "47abcc64",
   "metadata": {},
   "source": [
    "## General Hooke's Law\n",
    "Let $s$ as stress, $e$ as strain and $C$ as the Stiffness. The generalized Hooke's law (stress-strain relation) can be writtten as"
   ]
  },
  {
   "cell_type": "code",
   "execution_count": 32,
   "id": "3b406e5e",
   "metadata": {},
   "outputs": [
    {
     "name": "stdout",
     "output_type": "stream",
     "text": [
      "|s_11|   | C_1111 C_1112 C_1113 C_1121 C_1122 C_1123 C_1131 C_1132 C_1133 | |e_11|\n",
      "|s_12|   | C_1211 C_1212 C_1213 C_1221 C_1222 C_1223 C_1231 C_1232 C_1233 | |e_12|\n",
      "|s_13|   | C_1311 C_1312 C_1313 C_1321 C_1322 C_1323 C_1331 C_1332 C_1333 | |e_13|\n",
      "|s_21|   | C_2111 C_2112 C_2113 C_2121 C_2122 C_2123 C_2131 C_2132 C_2133 | |e_21|\n",
      "|s_22| = | C_2211 C_2212 C_2213 C_2221 C_2222 C_2223 C_2231 C_2232 C_2233 | |e_22|\n",
      "|s_23|   | C_2311 C_2312 C_2313 C_2321 C_2322 C_2323 C_2331 C_2332 C_2333 | |e_23|\n",
      "|s_31|   | C_3111 C_3112 C_3113 C_3121 C_3122 C_3123 C_3131 C_3132 C_3133 | |e_31|\n",
      "|s_32|   | C_3211 C_3212 C_3213 C_3221 C_3222 C_3223 C_3231 C_3232 C_3233 | |e_32|\n",
      "|s_33|   | C_3311 C_3312 C_3313 C_3321 C_3322 C_3323 C_3331 C_3332 C_3333 | |e_33|\n"
     ]
    }
   ],
   "source": [
    "for n in range(len(index)):\n",
    "    print(\"|s_{:2}|\".format(index[n]), end = \" \")\n",
    "    if n == 4:\n",
    "        print(\"=\", end = \" \")\n",
    "    else:\n",
    "        print(\" \", end = \" \")\n",
    "    print(\"|\", end = \" \")\n",
    "    for m in range(len(index)):\n",
    "        print(\"C_{:2}{:2}\".format(index[n], index[m]), end = \" \")\n",
    "    print(\"|\", end = \" \")\n",
    "    print(\"|e_{:2}|\".format(index[n]))"
   ]
  }
 ],
 "metadata": {
  "kernelspec": {
   "display_name": "Python 3",
   "language": "python",
   "name": "python3"
  },
  "language_info": {
   "codemirror_mode": {
    "name": "ipython",
    "version": 3
   },
   "file_extension": ".py",
   "mimetype": "text/x-python",
   "name": "python",
   "nbconvert_exporter": "python",
   "pygments_lexer": "ipython3",
   "version": "3.8.8"
  }
 },
 "nbformat": 4,
 "nbformat_minor": 5
}
