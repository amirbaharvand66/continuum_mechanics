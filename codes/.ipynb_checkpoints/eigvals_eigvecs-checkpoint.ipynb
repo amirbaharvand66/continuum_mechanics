{
 "cells": [
  {
   "cell_type": "markdown",
   "id": "507084e1",
   "metadata": {},
   "source": [
    "N.B Make sure LATEX is installed to get a nice printing output."
   ]
  },
  {
   "cell_type": "code",
   "execution_count": 1,
   "id": "c41e5f5c",
   "metadata": {},
   "outputs": [],
   "source": [
    "import sympy as sp\n",
    "sp.init_printing()"
   ]
  },
  {
   "cell_type": "markdown",
   "id": "8df84914",
   "metadata": {},
   "source": [
    "# Example 2.22.1"
   ]
  },
  {
   "cell_type": "code",
   "execution_count": 2,
   "id": "673cfb9c",
   "metadata": {},
   "outputs": [
    {
     "data": {
      "image/png": "[encoded data removed]",
      "text/latex": [
       "$\\displaystyle \\left[\\begin{matrix}2 & 0 & 0\\\\0 & 2 & 0\\\\0 & 0 & 2\\end{matrix}\\right]$"
      ],
      "text/plain": [
       "⎡2  0  0⎤\n",
       "⎢       ⎥\n",
       "⎢0  2  0⎥\n",
       "⎢       ⎥\n",
       "⎣0  0  2⎦"
      ]
     },
     "execution_count": 2,
     "metadata": {},
     "output_type": "execute_result"
    }
   ],
   "source": [
    "T = sp.Matrix([[2, 0, 0], [0, 2, 0], [0, 0, 2]])\n",
    "T"
   ]
  },
  {
   "cell_type": "markdown",
   "id": "9661436d",
   "metadata": {},
   "source": [
    "### Characteristic Equation\n",
    "\\begin{equation}\n",
    "    |\\boldsymbol{T} - \\lambda \\boldsymbol{I}| = 0\n",
    "\\end{equation}"
   ]
  },
  {
   "cell_type": "code",
   "execution_count": 3,
   "id": "eb66fa54",
   "metadata": {},
   "outputs": [
    {
     "data": {
      "image/png": "[encoded data removed]",
      "text/latex": [
       "$\\displaystyle \\left(\\beta - 2\\right)^{3}$"
      ],
      "text/plain": [
       "       3\n",
       "(β - 2) "
      ]
     },
     "execution_count": 3,
     "metadata": {},
     "output_type": "execute_result"
    }
   ],
   "source": [
    "# characteristic equation\n",
    "beta = sp.symbols('beta')\n",
    "ch_eqn = T.charpoly(beta)\n",
    "sp.factor(ch_eqn.as_expr())"
   ]
  },
  {
   "cell_type": "markdown",
   "id": "fa53684e",
   "metadata": {},
   "source": [
    "### Eigenvalues"
   ]
  },
  {
   "cell_type": "code",
   "execution_count": 4,
   "id": "764b73a6",
   "metadata": {},
   "outputs": [
    {
     "data": {
      "image/png": "[encoded data removed]",
      "text/latex": [
       "$\\displaystyle \\left\\{ 2 : 3\\right\\}$"
      ],
      "text/plain": [
       "{2: 3}"
      ]
     },
     "execution_count": 4,
     "metadata": {},
     "output_type": "execute_result"
    }
   ],
   "source": [
    "T.eigenvals()"
   ]
  },
  {
   "cell_type": "markdown",
   "id": "ba542289",
   "metadata": {},
   "source": [
    "### Eigenvectors"
   ]
  },
  {
   "cell_type": "code",
   "execution_count": 5,
   "id": "a9478dfe",
   "metadata": {
    "scrolled": true
   },
   "outputs": [
    {
     "data": {
      "image/png": "[encoded data removed]",
      "text/latex": [
       "$\\displaystyle \\left[ \\left( 2, \\  3, \\  \\left[ \\left[\\begin{matrix}1\\\\0\\\\0\\end{matrix}\\right], \\  \\left[\\begin{matrix}0\\\\1\\\\0\\end{matrix}\\right], \\  \\left[\\begin{matrix}0\\\\0\\\\1\\end{matrix}\\right]\\right]\\right)\\right]$"
      ],
      "text/plain": [
       "⎡⎛      ⎡⎡1⎤  ⎡0⎤  ⎡0⎤⎤⎞⎤\n",
       "⎢⎜      ⎢⎢ ⎥  ⎢ ⎥  ⎢ ⎥⎥⎟⎥\n",
       "⎢⎜2, 3, ⎢⎢0⎥, ⎢1⎥, ⎢0⎥⎥⎟⎥\n",
       "⎢⎜      ⎢⎢ ⎥  ⎢ ⎥  ⎢ ⎥⎥⎟⎥\n",
       "⎣⎝      ⎣⎣0⎦  ⎣0⎦  ⎣1⎦⎦⎠⎦"
      ]
     },
     "execution_count": 5,
     "metadata": {},
     "output_type": "execute_result"
    }
   ],
   "source": [
    "T.eigenvects()"
   ]
  },
  {
   "cell_type": "markdown",
   "id": "aa5e15d7",
   "metadata": {},
   "source": [
    "# Example 2.22.2"
   ]
  },
  {
   "cell_type": "code",
   "execution_count": 6,
   "id": "64b1545b",
   "metadata": {},
   "outputs": [
    {
     "data": {
      "image/png": "[encoded data removed]",
      "text/latex": [
       "$\\displaystyle \\left[\\begin{matrix}2 & 0 & 0\\\\0 & 2 & 0\\\\0 & 0 & 3\\end{matrix}\\right]$"
      ],
      "text/plain": [
       "⎡2  0  0⎤\n",
       "⎢       ⎥\n",
       "⎢0  2  0⎥\n",
       "⎢       ⎥\n",
       "⎣0  0  3⎦"
      ]
     },
     "execution_count": 6,
     "metadata": {},
     "output_type": "execute_result"
    }
   ],
   "source": [
    "T = sp.Matrix([[2, 0, 0], [0, 2, 0], [0, 0, 3]])\n",
    "T"
   ]
  },
  {
   "cell_type": "markdown",
   "id": "18198f3a",
   "metadata": {},
   "source": [
    "### Characteristic Equation"
   ]
  },
  {
   "cell_type": "code",
   "execution_count": 7,
   "id": "2df19256",
   "metadata": {},
   "outputs": [
    {
     "data": {
      "image/png": "[encoded data removed]",
      "text/latex": [
       "$\\displaystyle \\left(\\beta - 3\\right) \\left(\\beta - 2\\right)^{2}$"
      ],
      "text/plain": [
       "               2\n",
       "(β - 3)⋅(β - 2) "
      ]
     },
     "execution_count": 7,
     "metadata": {},
     "output_type": "execute_result"
    }
   ],
   "source": [
    "# characteristic equation\n",
    "beta = sp.symbols('beta')\n",
    "ch_eqn = T.charpoly(beta)\n",
    "sp.factor(ch_eqn.as_expr())"
   ]
  },
  {
   "cell_type": "markdown",
   "id": "b7d10ba6",
   "metadata": {},
   "source": [
    "### Eigenvalues"
   ]
  },
  {
   "cell_type": "code",
   "execution_count": 8,
   "id": "f99636f9",
   "metadata": {},
   "outputs": [
    {
     "data": {
      "image/png": "[encoded data removed]",
      "text/latex": [
       "$\\displaystyle \\left\\{ 2 : 2, \\  3 : 1\\right\\}$"
      ],
      "text/plain": [
       "{2: 2, 3: 1}"
      ]
     },
     "execution_count": 8,
     "metadata": {},
     "output_type": "execute_result"
    }
   ],
   "source": [
    "T.eigenvals()"
   ]
  },
  {
   "cell_type": "markdown",
   "id": "da41e873",
   "metadata": {},
   "source": [
    "### Eigenvectors"
   ]
  },
  {
   "cell_type": "code",
   "execution_count": 9,
   "id": "08a0e550",
   "metadata": {},
   "outputs": [
    {
     "data": {
      "image/png": "[encoded data removed]",
      "text/latex": [
       "$\\displaystyle \\left[ \\left( 2, \\  2, \\  \\left[ \\left[\\begin{matrix}1\\\\0\\\\0\\end{matrix}\\right], \\  \\left[\\begin{matrix}0\\\\1\\\\0\\end{matrix}\\right]\\right]\\right), \\  \\left( 3, \\  1, \\  \\left[ \\left[\\begin{matrix}0\\\\0\\\\1\\end{matrix}\\right]\\right]\\right)\\right]$"
      ],
      "text/plain": [
       "⎡⎛      ⎡⎡1⎤  ⎡0⎤⎤⎞  ⎛      ⎡⎡0⎤⎤⎞⎤\n",
       "⎢⎜      ⎢⎢ ⎥  ⎢ ⎥⎥⎟  ⎜      ⎢⎢ ⎥⎥⎟⎥\n",
       "⎢⎜2, 2, ⎢⎢0⎥, ⎢1⎥⎥⎟, ⎜3, 1, ⎢⎢0⎥⎥⎟⎥\n",
       "⎢⎜      ⎢⎢ ⎥  ⎢ ⎥⎥⎟  ⎜      ⎢⎢ ⎥⎥⎟⎥\n",
       "⎣⎝      ⎣⎣0⎦  ⎣0⎦⎦⎠  ⎝      ⎣⎣1⎦⎦⎠⎦"
      ]
     },
     "execution_count": 9,
     "metadata": {},
     "output_type": "execute_result"
    }
   ],
   "source": [
    "T.eigenvects()"
   ]
  },
  {
   "cell_type": "markdown",
   "id": "41c20b8f",
   "metadata": {},
   "source": [
    "# Example 2.22.3"
   ]
  },
  {
   "cell_type": "code",
   "execution_count": 10,
   "id": "4e2a98c7",
   "metadata": {},
   "outputs": [
    {
     "data": {
      "image/png": "[encoded data removed]",
      "text/latex": [
       "$\\displaystyle \\left[\\begin{matrix}2 & 0 & 0\\\\0 & 3 & 4\\\\0 & 4 & -3\\end{matrix}\\right]$"
      ],
      "text/plain": [
       "⎡2  0  0 ⎤\n",
       "⎢        ⎥\n",
       "⎢0  3  4 ⎥\n",
       "⎢        ⎥\n",
       "⎣0  4  -3⎦"
      ]
     },
     "execution_count": 10,
     "metadata": {},
     "output_type": "execute_result"
    }
   ],
   "source": [
    "T = sp.Matrix([[2, 0, 0], [0, 3, 4], [0, 4, -3]])\n",
    "T"
   ]
  },
  {
   "cell_type": "markdown",
   "id": "c7ef5a93",
   "metadata": {},
   "source": [
    "### Characteristic Equation"
   ]
  },
  {
   "cell_type": "code",
   "execution_count": 11,
   "id": "efb33dff",
   "metadata": {},
   "outputs": [
    {
     "data": {
      "image/png": "[encoded data removed]",
      "text/latex": [
       "$\\displaystyle \\left(\\beta - 5\\right) \\left(\\beta - 2\\right) \\left(\\beta + 5\\right)$"
      ],
      "text/plain": [
       "(β - 5)⋅(β - 2)⋅(β + 5)"
      ]
     },
     "execution_count": 11,
     "metadata": {},
     "output_type": "execute_result"
    }
   ],
   "source": [
    "# characteristic equation\n",
    "beta = sp.symbols('beta')\n",
    "ch_eqn = T.charpoly(beta)\n",
    "sp.factor(ch_eqn.as_expr())"
   ]
  },
  {
   "cell_type": "markdown",
   "id": "4ca820d4",
   "metadata": {},
   "source": [
    "### Eigenvalues"
   ]
  },
  {
   "cell_type": "code",
   "execution_count": 12,
   "id": "492d7338",
   "metadata": {},
   "outputs": [
    {
     "data": {
      "image/png": "[encoded data removed]",
      "text/latex": [
       "$\\displaystyle \\left\\{ -5 : 1, \\  2 : 1, \\  5 : 1\\right\\}$"
      ],
      "text/plain": [
       "{-5: 1, 2: 1, 5: 1}"
      ]
     },
     "execution_count": 12,
     "metadata": {},
     "output_type": "execute_result"
    }
   ],
   "source": [
    "T.eigenvals()"
   ]
  },
  {
   "cell_type": "markdown",
   "id": "df31c5ba",
   "metadata": {},
   "source": [
    "### Eigenvectors"
   ]
  },
  {
   "cell_type": "code",
   "execution_count": 13,
   "id": "b0e8c0bd",
   "metadata": {},
   "outputs": [
    {
     "data": {
      "image/png": "[encoded data removed]",
      "text/latex": [
       "$\\displaystyle \\left[ \\left( -5, \\  1, \\  \\left[ \\left[\\begin{matrix}0\\\\- \\frac{1}{2}\\\\1\\end{matrix}\\right]\\right]\\right), \\  \\left( 2, \\  1, \\  \\left[ \\left[\\begin{matrix}1\\\\0\\\\0\\end{matrix}\\right]\\right]\\right), \\  \\left( 5, \\  1, \\  \\left[ \\left[\\begin{matrix}0\\\\2\\\\1\\end{matrix}\\right]\\right]\\right)\\right]$"
      ],
      "text/plain": [
       "⎡⎛       ⎡⎡ 0  ⎤⎤⎞  ⎛      ⎡⎡1⎤⎤⎞  ⎛      ⎡⎡0⎤⎤⎞⎤\n",
       "⎢⎜       ⎢⎢    ⎥⎥⎟  ⎜      ⎢⎢ ⎥⎥⎟  ⎜      ⎢⎢ ⎥⎥⎟⎥\n",
       "⎢⎜-5, 1, ⎢⎢-1/2⎥⎥⎟, ⎜2, 1, ⎢⎢0⎥⎥⎟, ⎜5, 1, ⎢⎢2⎥⎥⎟⎥\n",
       "⎢⎜       ⎢⎢    ⎥⎥⎟  ⎜      ⎢⎢ ⎥⎥⎟  ⎜      ⎢⎢ ⎥⎥⎟⎥\n",
       "⎣⎝       ⎣⎣ 1  ⎦⎦⎠  ⎝      ⎣⎣0⎦⎦⎠  ⎝      ⎣⎣1⎦⎦⎠⎦"
      ]
     },
     "execution_count": 13,
     "metadata": {},
     "output_type": "execute_result"
    }
   ],
   "source": [
    "T.eigenvects()"
   ]
  },
  {
   "cell_type": "markdown",
   "id": "1fde84ee",
   "metadata": {},
   "source": [
    "Note: If a tensor is real and symmetric, then all its eigenvalues are real.\n",
    "\n",
    "If a tensor is real but not symmetric, then two of the eigenvalues maybe complex."
   ]
  },
  {
   "cell_type": "markdown",
   "id": "0c7c0998",
   "metadata": {},
   "source": [
    "# Example 2.22.5"
   ]
  },
  {
   "cell_type": "code",
   "execution_count": 14,
   "id": "9b75f022",
   "metadata": {},
   "outputs": [
    {
     "data": {
      "image/png": "[encoded data removed]",
      "text/latex": [
       "$\\displaystyle \\left[\\begin{matrix}0 & -1 & 0\\\\1 & 0 & 0\\\\0 & 0 & 1\\end{matrix}\\right]$"
      ],
      "text/plain": [
       "⎡0  -1  0⎤\n",
       "⎢        ⎥\n",
       "⎢1  0   0⎥\n",
       "⎢        ⎥\n",
       "⎣0  0   1⎦"
      ]
     },
     "execution_count": 14,
     "metadata": {},
     "output_type": "execute_result"
    }
   ],
   "source": [
    "T = sp.Matrix([[0, -1, 0], [1, 0, 0], [0, 0, 1]])\n",
    "T"
   ]
  },
  {
   "cell_type": "markdown",
   "id": "aec7ada0",
   "metadata": {},
   "source": [
    "### Characteristic Equation"
   ]
  },
  {
   "cell_type": "code",
   "execution_count": 15,
   "id": "10d589d9",
   "metadata": {},
   "outputs": [
    {
     "data": {
      "image/png": "[encoded data removed]",
      "text/latex": [
       "$\\displaystyle \\left(\\beta - 1\\right) \\left(\\beta^{2} + 1\\right)$"
      ],
      "text/plain": [
       "        ⎛ 2    ⎞\n",
       "(β - 1)⋅⎝β  + 1⎠"
      ]
     },
     "execution_count": 15,
     "metadata": {},
     "output_type": "execute_result"
    }
   ],
   "source": [
    "# characteristic equation\n",
    "beta = sp.symbols('beta')\n",
    "ch_eqn = T.charpoly(beta)\n",
    "sp.factor(ch_eqn.as_expr())"
   ]
  },
  {
   "cell_type": "markdown",
   "id": "57d34bd0",
   "metadata": {},
   "source": [
    "### Eigenvalues"
   ]
  },
  {
   "cell_type": "code",
   "execution_count": 16,
   "id": "45591eb2",
   "metadata": {},
   "outputs": [
    {
     "data": {
      "image/png": "[encoded data removed]",
      "text/latex": [
       "$\\displaystyle \\left\\{ 1 : 1, \\  - i : 1, \\  i : 1\\right\\}$"
      ],
      "text/plain": [
       "{1: 1, -ⅈ: 1, ⅈ: 1}"
      ]
     },
     "execution_count": 16,
     "metadata": {},
     "output_type": "execute_result"
    }
   ],
   "source": [
    "T.eigenvals()"
   ]
  },
  {
   "cell_type": "markdown",
   "id": "0b18e9f4",
   "metadata": {},
   "source": [
    "### Eigenvectors"
   ]
  },
  {
   "cell_type": "code",
   "execution_count": 17,
   "id": "d0019883",
   "metadata": {},
   "outputs": [
    {
     "data": {
      "image/png": "[encoded data removed]",
      "text/latex": [
       "$\\displaystyle \\left[ \\left( 1, \\  1, \\  \\left[ \\left[\\begin{matrix}0\\\\0\\\\1\\end{matrix}\\right]\\right]\\right), \\  \\left( - i, \\  1, \\  \\left[ \\left[\\begin{matrix}- i\\\\1\\\\0\\end{matrix}\\right]\\right]\\right), \\  \\left( i, \\  1, \\  \\left[ \\left[\\begin{matrix}i\\\\1\\\\0\\end{matrix}\\right]\\right]\\right)\\right]$"
      ],
      "text/plain": [
       "⎡⎛      ⎡⎡0⎤⎤⎞  ⎛       ⎡⎡-ⅈ⎤⎤⎞  ⎛      ⎡⎡ⅈ⎤⎤⎞⎤\n",
       "⎢⎜      ⎢⎢ ⎥⎥⎟  ⎜       ⎢⎢  ⎥⎥⎟  ⎜      ⎢⎢ ⎥⎥⎟⎥\n",
       "⎢⎜1, 1, ⎢⎢0⎥⎥⎟, ⎜-ⅈ, 1, ⎢⎢1 ⎥⎥⎟, ⎜ⅈ, 1, ⎢⎢1⎥⎥⎟⎥\n",
       "⎢⎜      ⎢⎢ ⎥⎥⎟  ⎜       ⎢⎢  ⎥⎥⎟  ⎜      ⎢⎢ ⎥⎥⎟⎥\n",
       "⎣⎝      ⎣⎣1⎦⎦⎠  ⎝       ⎣⎣0 ⎦⎦⎠  ⎝      ⎣⎣0⎦⎦⎠⎦"
      ]
     },
     "execution_count": 17,
     "metadata": {},
     "output_type": "execute_result"
    }
   ],
   "source": [
    "T.eigenvects()"
   ]
  }
 ],
 "metadata": {
  "kernelspec": {
   "display_name": "Python 3",
   "language": "python",
   "name": "python3"
  },
  "language_info": {
   "codemirror_mode": {
    "name": "ipython",
    "version": 3
   },
   "file_extension": ".py",
   "mimetype": "text/x-python",
   "name": "python",
   "nbconvert_exporter": "python",
   "pygments_lexer": "ipython3",
   "version": "3.8.8"
  }
 },
 "nbformat": 4,
 "nbformat_minor": 5
}
