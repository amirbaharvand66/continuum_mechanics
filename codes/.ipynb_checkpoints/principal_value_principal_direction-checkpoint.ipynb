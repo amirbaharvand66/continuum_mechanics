{
 "cells": [
  {
   "cell_type": "code",
   "execution_count": 1,
   "id": "65c126da",
   "metadata": {},
   "outputs": [],
   "source": [
    "import sympy as sp"
   ]
  },
  {
   "cell_type": "code",
   "execution_count": 2,
   "id": "11cb712a",
   "metadata": {},
   "outputs": [],
   "source": [
    "T11, T12, T13, T21, T22, T23, T31, T32, T33 = sp.symbols('T11, T12, T13, T21, T22, T23, T31, T32, T33')"
   ]
  },
  {
   "cell_type": "markdown",
   "id": "293f27ee",
   "metadata": {},
   "source": [
    "# Principal Scalar Invariants of a Tensor"
   ]
  },
  {
   "cell_type": "code",
   "execution_count": 3,
   "id": "8c1b3c3b",
   "metadata": {},
   "outputs": [
    {
     "data": {
      "text/latex": [
       "$\\displaystyle \\left[\\begin{matrix}T_{11} & T_{12} & T_{13}\\\\T_{21} & T_{22} & T_{23}\\\\T_{31} & T_{32} & T_{33}\\end{matrix}\\right]$"
      ],
      "text/plain": [
       "Matrix([\n",
       "[T11, T12, T13],\n",
       "[T21, T22, T23],\n",
       "[T31, T32, T33]])"
      ]
     },
     "execution_count": 3,
     "metadata": {},
     "output_type": "execute_result"
    }
   ],
   "source": [
    "T = sp.Matrix([[T11, T12, T13], [T21, T22, T23], [T31, T32, T33]])\n",
    "T"
   ]
  },
  {
   "cell_type": "markdown",
   "id": "c566f95f",
   "metadata": {},
   "source": [
    "Characteristic Equation, Eq(2.25.1)\n",
    "\\begin{equation}\n",
    "    \\lambda^3 - I_1 \\lambda^2 + I_2 \\lambda - I_3 = 0\n",
    "\\end{equation}"
   ]
  },
  {
   "cell_type": "code",
   "execution_count": 4,
   "id": "bc0bae9d",
   "metadata": {},
   "outputs": [
    {
     "data": {
      "text/latex": [
       "$\\displaystyle \\operatorname{PurePoly}{\\left( \\beta^{3} + \\left(- T_{11} - T_{22} - T_{33}\\right) \\beta^{2} + \\left(T_{11} T_{22} + T_{11} T_{33} - T_{12} T_{21} - T_{13} T_{31} + T_{22} T_{33} - T_{23} T_{32}\\right) \\beta -  T_{11} T_{22} T_{33} + T_{11} T_{23} T_{32} + T_{12} T_{21} T_{33} - T_{12} T_{23} T_{31} - T_{13} T_{21} T_{32} + T_{13} T_{22} T_{31}, \\beta, domain=\\mathbb{Z}\\left[T_{11}, T_{12}, T_{13}, T_{21}, T_{22}, T_{23}, T_{31}, T_{32}, T_{33}\\right] \\right)}$"
      ],
      "text/plain": [
       "PurePoly(beta**3 + (-T11 - T22 - T33)*beta**2 + (T11*T22 + T11*T33 - T12*T21 - T13*T31 + T22*T33 - T23*T32)*beta - T11*T22*T33 + T11*T23*T32 + T12*T21*T33 - T12*T23*T31 - T13*T21*T32 + T13*T22*T31, beta, domain='ZZ[T11,T12,T13,T21,T22,T23,T31,T32,T33]')"
      ]
     },
     "execution_count": 4,
     "metadata": {},
     "output_type": "execute_result"
    }
   ],
   "source": [
    "# characteristic equation\n",
    "beta = sp.symbols('beta')\n",
    "ch_eqn = T.charpoly(beta)\n",
    "sp.factor(ch_eqn)"
   ]
  },
  {
   "cell_type": "markdown",
   "id": "6500fcb9",
   "metadata": {},
   "source": [
    "Eq(2.25.2)\n",
    "\\begin{equation}\n",
    "    I_1 = tr(T)\n",
    "\\end{equation}"
   ]
  },
  {
   "cell_type": "code",
   "execution_count": 5,
   "id": "060df59f",
   "metadata": {},
   "outputs": [
    {
     "data": {
      "text/latex": [
       "$\\displaystyle T_{11} + T_{22} + T_{33}$"
      ],
      "text/plain": [
       "T11 + T22 + T33"
      ]
     },
     "execution_count": 5,
     "metadata": {},
     "output_type": "execute_result"
    }
   ],
   "source": [
    "I1 = sp.trace(T)\n",
    "I1"
   ]
  },
  {
   "cell_type": "markdown",
   "id": "5a311da9",
   "metadata": {},
   "source": [
    "Eq(2.25.3)\n",
    "\\begin{equation}\n",
    "    I_2 = \\frac{1}{2} [tr(T)^2 - tr(T^2)]\n",
    "\\end{equation}"
   ]
  },
  {
   "cell_type": "code",
   "execution_count": 6,
   "id": "cc26fd1a",
   "metadata": {},
   "outputs": [
    {
     "data": {
      "text/latex": [
       "$\\displaystyle 1.0 T_{11} T_{22} + 1.0 T_{11} T_{33} - 1.0 T_{12} T_{21} - 1.0 T_{13} T_{31} + 1.0 T_{22} T_{33} - 1.0 T_{23} T_{32}$"
      ],
      "text/plain": [
       "1.0*T11*T22 + 1.0*T11*T33 - 1.0*T12*T21 - 1.0*T13*T31 + 1.0*T22*T33 - 1.0*T23*T32"
      ]
     },
     "execution_count": 6,
     "metadata": {},
     "output_type": "execute_result"
    }
   ],
   "source": [
    "I2 = 1/2 * (sp.trace(T)**2 - sp.trace(T**2))\n",
    "sp.simplify(I2)"
   ]
  },
  {
   "cell_type": "markdown",
   "id": "fc82613d",
   "metadata": {},
   "source": [
    "Eq(2.25.4)\n",
    "\\begin{equation}\n",
    "    I_3 = det[T]\n",
    "\\end{equation}"
   ]
  },
  {
   "cell_type": "code",
   "execution_count": 7,
   "id": "01c22de4",
   "metadata": {},
   "outputs": [
    {
     "data": {
      "text/latex": [
       "$\\displaystyle T_{11} T_{22} T_{33} - T_{11} T_{23} T_{32} - T_{12} T_{21} T_{33} + T_{12} T_{23} T_{31} + T_{13} T_{21} T_{32} - T_{13} T_{22} T_{31}$"
      ],
      "text/plain": [
       "T11*T22*T33 - T11*T23*T32 - T12*T21*T33 + T12*T23*T31 + T13*T21*T32 - T13*T22*T31"
      ]
     },
     "execution_count": 7,
     "metadata": {},
     "output_type": "execute_result"
    }
   ],
   "source": [
    "I3 = sp.det(T)\n",
    "I3"
   ]
  },
  {
   "cell_type": "markdown",
   "id": "56a1cab3",
   "metadata": {},
   "source": [
    "# Scalar Invariants in terms of Principal Values, Eq(2.25.5)"
   ]
  },
  {
   "cell_type": "code",
   "execution_count": 8,
   "id": "fe340ae6",
   "metadata": {},
   "outputs": [
    {
     "data": {
      "text/latex": [
       "$\\displaystyle \\left[\\begin{matrix}T_{11} & 0 & 0\\\\0 & T_{22} & 0\\\\0 & 0 & T_{33}\\end{matrix}\\right]$"
      ],
      "text/plain": [
       "Matrix([\n",
       "[T11,   0,   0],\n",
       "[  0, T22,   0],\n",
       "[  0,   0, T33]])"
      ]
     },
     "execution_count": 8,
     "metadata": {},
     "output_type": "execute_result"
    }
   ],
   "source": [
    "T = sp.Matrix([[T11, 0, 0], [0, T22, 0], [0, 0, T33]])\n",
    "T"
   ]
  },
  {
   "cell_type": "code",
   "execution_count": 9,
   "id": "8cf187ed",
   "metadata": {},
   "outputs": [
    {
     "data": {
      "text/latex": [
       "$\\displaystyle - \\left(T_{11} - \\beta\\right) \\left(T_{22} - \\beta\\right) \\left(T_{33} - \\beta\\right)$"
      ],
      "text/plain": [
       "-(T11 - beta)*(T22 - beta)*(T33 - beta)"
      ]
     },
     "execution_count": 9,
     "metadata": {},
     "output_type": "execute_result"
    }
   ],
   "source": [
    "# characteristic equation\n",
    "beta = sp.symbols('beta')\n",
    "ch_eqn = T.charpoly(beta)\n",
    "sp.factor(ch_eqn.as_expr())"
   ]
  },
  {
   "cell_type": "code",
   "execution_count": 10,
   "id": "55ee9451",
   "metadata": {},
   "outputs": [
    {
     "data": {
      "text/latex": [
       "$\\displaystyle T_{11} + T_{22} + T_{33}$"
      ],
      "text/plain": [
       "T11 + T22 + T33"
      ]
     },
     "execution_count": 10,
     "metadata": {},
     "output_type": "execute_result"
    }
   ],
   "source": [
    "I1 = sp.trace(T)\n",
    "I1"
   ]
  },
  {
   "cell_type": "code",
   "execution_count": 11,
   "id": "d3029ab2",
   "metadata": {},
   "outputs": [
    {
     "data": {
      "text/latex": [
       "$\\displaystyle 1.0 T_{11} T_{22} + 1.0 T_{11} T_{33} + 1.0 T_{22} T_{33}$"
      ],
      "text/plain": [
       "1.0*T11*T22 + 1.0*T11*T33 + 1.0*T22*T33"
      ]
     },
     "execution_count": 11,
     "metadata": {},
     "output_type": "execute_result"
    }
   ],
   "source": [
    "I2 = 1/2 * (sp.trace(T)**2 - sp.trace(T**2))\n",
    "sp.simplify(I2)"
   ]
  },
  {
   "cell_type": "code",
   "execution_count": 12,
   "id": "e5e9cb28",
   "metadata": {},
   "outputs": [
    {
     "data": {
      "text/latex": [
       "$\\displaystyle T_{11} T_{22} T_{33}$"
      ],
      "text/plain": [
       "T11*T22*T33"
      ]
     },
     "execution_count": 12,
     "metadata": {},
     "output_type": "execute_result"
    }
   ],
   "source": [
    "I3 = sp.det(T)\n",
    "I3"
   ]
  }
 ],
 "metadata": {
  "kernelspec": {
   "display_name": "Python 3",
   "language": "python",
   "name": "python3"
  },
  "language_info": {
   "codemirror_mode": {
    "name": "ipython",
    "version": 3
   },
   "file_extension": ".py",
   "mimetype": "text/x-python",
   "name": "python",
   "nbconvert_exporter": "python",
   "pygments_lexer": "ipython3",
   "version": "3.8.8"
  }
 },
 "nbformat": 4,
 "nbformat_minor": 5
}
