{
 "cells": [
  {
   "cell_type": "code",
   "execution_count": 1,
   "id": "79fea518",
   "metadata": {},
   "outputs": [],
   "source": [
    "from sympy import *\n",
    "init_printing(use_unicode=True)"
   ]
  },
  {
   "cell_type": "code",
   "execution_count": 2,
   "id": "3657b47a",
   "metadata": {},
   "outputs": [],
   "source": [
    "c1, c2, c3, d1, d2, d3 = symbols('c1, c2, c3, d1, d2, d3')"
   ]
  },
  {
   "cell_type": "code",
   "execution_count": 3,
   "id": "13af935c",
   "metadata": {},
   "outputs": [
    {
     "name": "stdout",
     "output_type": "stream",
     "text": [
      "Matrix([[c1], [c2], [c3]])\n",
      "Matrix([[d1], [d2], [d3]])\n"
     ]
    }
   ],
   "source": [
    "c = Matrix([c1, c2, c3])\n",
    "d = Matrix([d1, d2, d3])\n",
    "print(c)\n",
    "print(d)"
   ]
  },
  {
   "cell_type": "code",
   "execution_count": 4,
   "id": "fdbcd09c",
   "metadata": {},
   "outputs": [
    {
     "name": "stdout",
     "output_type": "stream",
     "text": [
      "T =  Matrix([[c1*d1, c1*d2, c1*d3], [c2*d1, c2*d2, c2*d3], [c3*d1, c3*d2, c3*d3]])\n",
      "Determinant of T =  0\n"
     ]
    }
   ],
   "source": [
    "T = c * Transpose(d)\n",
    "print(\"T = \", T)\n",
    "print(\"Determinant of T = \",T.det())"
   ]
  }
 ],
 "metadata": {
  "kernelspec": {
   "display_name": "Python 3",
   "language": "python",
   "name": "python3"
  },
  "language_info": {
   "codemirror_mode": {
    "name": "ipython",
    "version": 3
   },
   "file_extension": ".py",
   "mimetype": "text/x-python",
   "name": "python",
   "nbconvert_exporter": "python",
   "pygments_lexer": "ipython3",
   "version": "3.8.8"
  }
 },
 "nbformat": 4,
 "nbformat_minor": 5
}
