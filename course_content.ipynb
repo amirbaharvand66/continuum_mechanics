{
 "cells": [
  {
   "cell_type": "markdown",
   "id": "62d94184",
   "metadata": {},
   "source": [
    "# Introduction to Continuum Mechanics\n",
    "## Course Content (*[Youtube videos](https://www.youtube.com/playlist?list=PLHEL6nxo_Gq_B7M8fNnjl_i9f8D7Xgrdg)*)"
   ]
  },
  {
   "cell_type": "markdown",
   "id": "a886952b",
   "metadata": {},
   "source": [
    "### *[Introduction to Continuum Mechanics](https://github.com/amirbaharvand66/continuum_mechanics/blob/master/course_outline/cm_intro.ipynb)*"
   ]
  },
  {
   "cell_type": "markdown",
   "id": "38993616",
   "metadata": {},
   "source": [
    "### Module 1: Tensor Algebra\n",
    "#### Module 1.1: Indicial Notation\n",
    "#### *[1.1.1 Einstein’s summation convention, the Kronecker Delta and the Permutation symbol](https://github.com/amirbaharvand66/continuum_mechanics/blob/master/notes/module_111_einstein_summation_convention.pdf)*\n",
    "#### *[1.1.2 Indicial notation manipulation, scalar triple product and vector triple product](https://github.com/amirbaharvand66/continuum_mechanics/blob/master/notes/module_112_indicial_notation_manipulation%20.pdf)*\n",
    "### 1.2 Operations on Tensors\n",
    "#### *[1.2.1 Tensor, Tensor Transformation, Transformed Vector](https://github.com/amirbaharvand66/continuum_mechanics/blob/master/notes/module_121_what_is_a_tensor.pdf)* *[[code]](https://github.com/amirbaharvand66/continuum_mechanics/blob/master/codes/fourth_order_tensor_example.ipynb)* \n",
    "\n",
    "### 1.3 Tensor Calculus\n",
    "### 1.4 Curvilinear Coordinates"
   ]
  },
  {
   "cell_type": "code",
   "execution_count": null,
   "id": "7e72dc25",
   "metadata": {},
   "outputs": [],
   "source": []
  }
 ],
 "metadata": {
  "kernelspec": {
   "display_name": "Python 3",
   "language": "python",
   "name": "python3"
  },
  "language_info": {
   "codemirror_mode": {
    "name": "ipython",
    "version": 3
   },
   "file_extension": ".py",
   "mimetype": "text/x-python",
   "name": "python",
   "nbconvert_exporter": "python",
   "pygments_lexer": "ipython3",
   "version": "3.8.8"
  }
 },
 "nbformat": 4,
 "nbformat_minor": 5
}
