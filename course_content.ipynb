{
 "cells": [
  {
   "cell_type": "markdown",
   "id": "62d94184",
   "metadata": {},
   "source": [
    "# Introduction to Continuum Mechanics\n",
    "## Course Content (*[Youtube videos](https://www.youtube.com/playlist?list=PLHEL6nxo_Gq_B7M8fNnjl_i9f8D7Xgrdg)*)"
   ]
  },
  {
   "cell_type": "markdown",
   "id": "a886952b",
   "metadata": {},
   "source": [
    "<hr />\n",
    "\n",
    "### *[Introduction to Continuum Mechanics](https://github.com/amirbaharvand66/continuum_mechanics/blob/master/course_outline/cm_intro.ipynb)*"
   ]
  },
  {
   "cell_type": "markdown",
   "id": "38993616",
   "metadata": {},
   "source": [
    "<hr />\n",
    "\n",
    "### Module 1: Tensor Algebra\n",
    "#### Module 1.1: Indicial Notation\n",
    "#### *[1.1.1 Einstein’s summation convention, the Kronecker Delta and the Permutation symbol](https://github.com/amirbaharvand66/continuum_mechanics/blob/master/notes/module_111_einstein_summation_convention.pdf)*\n",
    "\n",
    "#### *[1.1.2 Indicial notation manipulation, scalar triple product and vector triple product](https://github.com/amirbaharvand66/continuum_mechanics/blob/master/notes/module_112_indicial_notation_manipulation%20.pdf)*\n",
    "\n",
    "### 1.2 Operations on Tensors\n",
    "#### *[1.2.1 Tensor, Tensor Transformation, Transformed Vector](https://github.com/amirbaharvand66/continuum_mechanics/blob/master/notes/module_121_what_is_a_tensor.pdf)* *[[code]](https://github.com/amirbaharvand66/continuum_mechanics/blob/master/codes/fourth_order_tensor_example.ipynb)* \n",
    "\n",
    "#### *[1.2.2 Operations on Tensors](https://github.com/amirbaharvand66/continuum_mechanics/blob/master/notes/module_122_operations_on_tensors.pdf)* *[[code]](https://github.com/amirbaharvand66/continuum_mechanics/blob/master/codes/dyad_product_det.ipynb)* \n",
    "\n",
    "#### *[1.2.3 Orthogonal Tensor, Transformation Law for Cartesian Components of a Vector/Tensor](https://github.com/amirbaharvand66/continuum_mechanics/blob/master/notes/module_123_transformation_law.pdf)*\n",
    "\n",
    "#### *[1.2.4 Tensor Transformation Rules](https://github.com/amirbaharvand66/continuum_mechanics/blob/master/notes/module_124_tesors_transformation_rules.pdf)*\n",
    "\n",
    "#### *[1.2.5 Dual Vector, Eigenvalues and Eigenvectors of a Tensor](https://github.com/amirbaharvand66/continuum_mechanics/blob/master/notes/module_125_dual%20vector_eigenvalues_eigenvectors.pdf)* *[[code]](https://github.com/amirbaharvand66/continuum_mechanics/blob/master/codes/eigvals_eigvecs.ipynb)* \n",
    "\n",
    "#### *[1.2.6 Principal Values and Principal Directions](https://github.com/amirbaharvand66/continuum_mechanics/blob/master/notes/module_126_principal_values_principal_directions.pdf)* *[[code]](https://github.com/amirbaharvand66/continuum_mechanics/blob/master/codes/principal_value_principal_direction.ipynb)* \n",
    "\n",
    "### 1.3 Tensor Calculus\n",
    "#### *[1.3.1 Gradient, Divergence, Curl and Laplacian of a Scalar, Vector and Tensor Field in Cartesian Coordinate System](https://github.com/amirbaharvand66/continuum_mechanics/blob/master/notes/module_131_gradient_divergence_curl_laplacian.pdf)* *[[code]](https://github.com/amirbaharvand66/continuum_mechanics/blob/master/codes/gradient_geometrical_meaning.mw)* \n",
    "\n",
    "### 1.4 Curvilinear Coordinates\n",
    "#### *[1.4.1 Polar Coordinate System](https://github.com/amirbaharvand66/continuum_mechanics/blob/master/notes/module_141_polar_coordinate_system.pdf)* \n",
    "\n",
    "#### *[1.4.2 Cylindrical Coordinate System](https://github.com/amirbaharvand66/continuum_mechanics/blob/master/notes/module_142_clindrical_coordinate_system.pdf)* \n",
    "\n",
    "#### *[1.4.3 Spherical Coordinate System](https://github.com/amirbaharvand66/continuum_mechanics/blob/master/notes/module_143_spherical_coordinate_system.pdf)* *[[Curl(v)]](https://github.com/amirbaharvand66/continuum_mechanics/blob/master/codes/curl_v_spherical_coordinate.mw)* *[[Laplacian(v)]](https://github.com/amirbaharvand66/continuum_mechanics/blob/master/codes/laplacian_v_spherical_coordinate.mw)* \n",
    "\n",
    "#### *[1.4.4 Orthogonal Curvilinear Coordinate System](https://github.com/amirbaharvand66/continuum_mechanics/blob/master/notes/module_144_orthogonal_curvilinar_coordinate_syatem.pdf)* "
   ]
  },
  {
   "cell_type": "markdown",
   "id": "69eacd21-fc2d-408d-8070-7ba7f30f4404",
   "metadata": {},
   "source": [
    "<hr />\n",
    "\n",
    "### Module 2: Kinematics of a Continuum\n",
    "#### *[Module 2.1 Reference/Current configuration, Lagrangian/Eulerian views, Material derivative](https://github.com/amirbaharvand66/continuum_mechanics/blob/master/notes/module_21_reference_current_configuration_lagrangian_eulerian_views_material_derivative.pdf)*\n",
    "#### *[Module 2.2 Infinitesimal deformation, Cauchy and Green-Lagrange strain tensors, Principal strain, Dilatation](https://github.com/amirbaharvand66/continuum_mechanics/blob/master/notes/module_22_infinitesimal_strain_tensor.pdf)*\n",
    "#### *[Module 2.3 Rate of change of a material element, rate of deformation tensor, spin tensor, conservation of mass ](https://github.com/amirbaharvand66/continuum_mechanics/blob/master/notes/module_23_rate_of_change_of_a_material_element.pdf)*\n",
    "#### *[Module 2.4 Compatibility equations for infinitesimal strain](https://github.com/amirbaharvand66/continuum_mechanics/blob/master/notes/module_24_compatibility_equations_for_infinitesimal_strain.pdf)*\n",
    "#### *[Module 2.5 Deformation gradient](https://github.com/amirbaharvand66/continuum_mechanics/blob/master/notes/module_25_deformation_gradient.pdf)* *[[code]](https://github.com/amirbaharvand66/continuum_mechanics/blob/master/codes/example_3_20_2.mw)*\n",
    "#### *[Module 2.6 Polar decomposition](https://github.com/amirbaharvand66/continuum_mechanics/blob/master/notes/module_26_%20polar_decomposition.pdf)*\n",
    "#### *[Module 2.7 Righ/Left Cauchy-Green and Lagrange strain tensors](https://github.com/amirbaharvand66/continuum_mechanics/blob/master/notes/module_27_right_left_cauchy_green_lagrange.pdf)*\n",
    "#### *[Module 2.8 Eulerian strain tensor and change in area and volume due to deformation](https://github.com/amirbaharvand66/continuum_mechanics/blob/master/notes/module_28_eulerian_strain_tensor.pdf)*\n",
    "#### *[Module 2.9-PART 1: F, B, and C Tensors in Different Coordinate Systems](https://github.com/amirbaharvand66/continuum_mechanics/blob/master/notes/module_29_F_B_C_in_different_coordinates_part_1.pdf)*\n",
    "#### *[Module 2.9-PART 1: F, B, and C Tensors in Different Coordinate Systems](https://github.com/amirbaharvand66/continuum_mechanics/blob/master/notes/module_29_F_B_C_in_different_coordinates_part_2.pdf)*"
   ]
  },
  {
   "cell_type": "code",
   "execution_count": null,
   "id": "ba9e051c-f580-4009-a632-e30e0ec62af8",
   "metadata": {},
   "outputs": [],
   "source": []
  }
 ],
 "metadata": {
  "kernelspec": {
   "display_name": "Python 3 (ipykernel)",
   "language": "python",
   "name": "python3"
  },
  "language_info": {
   "codemirror_mode": {
    "name": "ipython",
    "version": 3
   },
   "file_extension": ".py",
   "mimetype": "text/x-python",
   "name": "python",
   "nbconvert_exporter": "python",
   "pygments_lexer": "ipython3",
   "version": "3.12.7"
  }
 },
 "nbformat": 4,
 "nbformat_minor": 5
}
